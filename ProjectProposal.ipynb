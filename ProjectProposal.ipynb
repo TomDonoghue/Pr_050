{
 "cells": [
  {
   "cell_type": "markdown",
   "metadata": {},
   "source": [
    "# COGS 108 - Project Proposal"
   ]
  },
  {
   "cell_type": "markdown",
   "metadata": {},
   "source": [
    "## Important\n",
    "\n",
    "- Make sure all group members (3-5 people) are listed in the group members section.\n",
    "- ONE, and only one, member of your group should upload this notebook to TritonED. \n",
    "- Each member of the group will receive the same grade on this assignment. \n",
    "- Keep the file name the same: submit the file 'ProjectProposal.ipynb'"
   ]
  },
  {
   "cell_type": "markdown",
   "metadata": {},
   "source": [
    "## Overview"
   ]
  },
  {
   "cell_type": "markdown",
   "metadata": {},
   "source": [
    "Read the project description and detailed instructions for this assignment in the 'ProjectOutline' document."
   ]
  },
  {
   "cell_type": "markdown",
   "metadata": {},
   "source": [
    "## Group Members: Fill in the Student IDs of each group member here\n",
    "\n",
    "Replace the lines below to list each persons full student ID. Add lines as needed for your group size, and make sure each ID is listed on a separate line. \n",
    "\n",
    "- A12719779\n",
    "- A92112347\n",
    "- A14941886\n",
    "- A14345340\n",
    "- A92115270"
   ]
  },
  {
   "cell_type": "markdown",
   "metadata": {},
   "source": [
    "### Research Question\n",
    "\n",
    "What is your research question? (1-2 sentences)"
   ]
  },
  {
   "cell_type": "markdown",
   "metadata": {},
   "source": [
    "*How could we make San Diego a safer environment for drivers?*"
   ]
  },
  {
   "cell_type": "markdown",
   "metadata": {},
   "source": [
    "### Hypothesis\n",
    "\n",
    "What is your main hypothesis and predictions? (2-3 sentences)"
   ]
  },
  {
   "cell_type": "markdown",
   "metadata": {},
   "source": [
    "*Some streets are simply safer to drive on than others when you take into account lighting, traffic signs and signals, etc. Our hypothesis is that there is a correlation between the quality of the streets of San Diego with frequency of accidents and collisions.*"
   ]
  },
  {
   "cell_type": "markdown",
   "metadata": {},
   "source": [
    "### Dataset(s)\n",
    "\n",
    "What data will you use to answer your question? Describe the dataset(s) in terms of number of observations, what kind of features it contains, etc. You must use at least one dataset containing at least approximately 1000 observations (if your data are smaller but you feel they are sufficient, email Prof. Voytek). You are welcome (and in fact recommended) to find multiple datasets! If you do so, describe each one, and briefly explain how you will combine them together. "
   ]
  },
  {
   "cell_type": "markdown",
   "metadata": {},
   "source": [
    "*Fill in your dataset information here*\n",
    "\n",
    "(Copy this information for each dataset)\n",
    "- Dataset Name: Traffic collisions\n",
    "- Link to the dataset: https://data.sandiego.gov/datasets/police-collisions/\n",
    "- Number of observations: 21244\n",
    "\n",
    "This dataset contains traffic collision reports in San Diego. Contains information on time of incident, location, number of people injured/killed, and a general description."
   ]
  },
  {
   "cell_type": "markdown",
   "metadata": {},
   "source": [
    "### Background and Prior Work\n",
    "\n",
    "Why is this question of interest, what background information led you to your hypothesis, and why is this important?\n",
    "\n",
    "Find some relevant prior work, and reference those sources. Even if you think you have a totally novel question, find the most similar prior work that you can and discuss how it relates to your project. \n",
    "\n",
    "References can be research publications, but they need not be. Blogs, github repositories, company websites, etc., are all viable references if they are relevant to your project.\n",
    "\n",
    "(2-3 paragraphs, including at least 2 references)"
   ]
  },
  {
   "cell_type": "markdown",
   "metadata": {},
   "source": [
    "*Fill in your background and prior work here* \n",
    "\n",
    "This question is of interest because it affects nearly everyone in San Diego and can help save some lives. Background information for this comes from personal experiences, such as the poorly organized one way streets of downtown SD, to the poorly lit streets in La Jolla at night, and less than clear signs for entrances and exits for the highway. The questino is important because it will help us focus how can we develope streets to be safer and what should we prioritize while making streets safer (lighting vs potholes).\n",
    "\n",
    "We were primarily inpsired by Coronado city's analysis of general city wide collision analysis based off on five years data. It provides similar analysis through giving recommendations on street improvements, however, our goal is to allow these correlations to be made easily in any city (provided that traffic data was available). If our key insights work out, the city of San Diego can provide live time collision data and analysis similar to our second reference (TIMS).\n",
    "\n",
    "References (include links):\n",
    "- 1) https://www.coronado.ca.us/UserFiles/Servers/Server_746006/File/government/departments/Public%20Services/traffic/2015%20Traffic%20Report%20(final).pdf\n",
    "- 2) <br>\n",
    "https://tims.berkeley.edu"
   ]
  },
  {
   "cell_type": "markdown",
   "metadata": {},
   "source": [
    "### Proposed Methods\n",
    "\n",
    "What methods will you use to analyze your data?\n",
    "\n",
    "- How 'clean' is the data? To the extent that it requires cleaning, how will you do so?\n",
    "- How will you analyze the data? Be as specific as you can. Briefly mention any pre-processing steps that are required for your methods (for example, checking data distributions and performing any transformations that may be required). Include a brief outline of how you will apply your chosen method(s). \n",
    "- What do you plan to report? Briefly mention any key visualizations you plan to create, and/or the kind of results you will be able to report that address your question (this could be, for example, the outcome of some statistical test(s), prediction error on a model, a model fit parameter, etc.).\n",
    "- Include a list of packages you expect to use for you project. If you plan to use packages we have not used in class, add a very brief description about them (a few words is sufficient). "
   ]
  },
  {
   "cell_type": "markdown",
   "metadata": {},
   "source": [
    "*Fill in your proposed methods information here:*\n",
    "\n",
    "*Data Cleaning (2-3 sentences)*\n",
    "\n",
    "The data itself is fairly clean and nicely organized. Since the reports are standardized, there is little difficulty in parsing or extracting information from our dataset.\n",
    "\n",
    "*Data Analysis (1-2 paragraphs)*\n",
    "\n",
    "Since this dataset has a lot to offer, there are a number of ways to analyze the data. One of which, is, to find the most frequently occurring streets/intersections across these reports to determine which parts of San Diego are more prone to incidents and traffic violations than others. Another way to analyze data is by looking at time of day and when incidents are most frequent. A third way, is to look at the most frequently occurring type of accident.\n",
    "\n",
    "*What to report (2-3 sentences)*\n",
    "\n",
    "We plan on reporting correlations between time of day and frequency of accidents, with the streets that they occur. One way to visualize the data to report would be to perform a random sampling visualization to determine how common accidents are in different parts of San Diego.\n",
    "\n",
    "Packages we plan to use:\n",
    "- Pandas\n",
    "- Matplotlib for visualization"
   ]
  },
  {
   "cell_type": "markdown",
   "metadata": {},
   "source": [
    "### Ethics and Privacy\n",
    "\n",
    "Briefly acknowledge and address any potential issues of ethics and privacy for the proposed project. In particular:\n",
    "- Do you have permission to use this data, for this purpose?\n",
    "- Are there privacy concerns regarding your datasets that you need to deal with, and/or terms of use that you need to comply with?\n",
    "- Are there potential biases in your dataset(s), in terms of who it composes, and how it was collected, that may be problematic in terms of it allowing for equitable analysis? (For example, does your data exclude particular populations, or is it likely to reflect particular human biases in a way that could be a problem?) \n",
    "- Are there any other issues related to your topic area, data, and/or analyses that are potentially problematic in terms of data privacy and equitable impact?\n",
    "- How will you handle any issues you identify?\n",
    "\n",
    "(1-2 paragraphs)\n",
    "The dataset is open for public use and is valid to use for our purposes. Since the data is already made anonymous, there are no privacy issues we would have to deal with. There is a bias towards incidents that are hit and run or DUI violations since those sort of incidents are the ones that are usually reported, however it will still allow for equitable analysis. In terms of data privacy, there are no issues. Should issues arise, we will remove any sort of identifiable data."
   ]
  },
  {
   "cell_type": "markdown",
   "metadata": {},
   "source": [
    "### Discussion\n",
    "\n",
    "Discuss your project, looking forward to what your results might mean, how they fit it in with what is already known, and what problems you may encounter. \n",
    "\n",
    "In particular:\n",
    "- If your analyses and hypotheses are correct, what will be the contribution of this project to the topic domain? \n",
    "- Alternatively, what will you do if you methods don't work and/or your hypotheses are wrong? \n",
    "- What are the potential pitfalls and potential confounds of your data and/or methods that may cause problems, and/or influence your interpretations?\n",
    "\n",
    "(2-3 paragraphs)"
   ]
  },
  {
   "cell_type": "markdown",
   "metadata": {},
   "source": [
    "If our analyses and hypotheses hold value, then it could be used to help promote change in traffic control and city planning with respect to driving. This data could help drivers in the area, since we will be able to identify streets where incidents frequently occur, and could potentially be used with some sort of GPS, like Google Maps to notify the driver of such streets. Most importantly, it has the potential to inspire change to allow San Diego to be a safer place for drivers.\n",
    "\n",
    "If our methods do not work or if our hypotheses are wrong, then we will simply have to revise our hypotheses or change our means of proving our hypotheses. One potential problem is that the dataset we are using is not entirely representative of all incidents, since these reports are generally only taken when related to DUI or hit and run. Another issue could be that the collisions dataset alone might be difficult to understand why the streets cause accidents, so another dataset with more details of these streets may be needed to continue this project."
   ]
  }
 ],
 "metadata": {
  "kernelspec": {
   "display_name": "Python 3",
   "language": "python",
   "name": "python3"
  },
  "language_info": {
   "codemirror_mode": {
    "name": "ipython",
    "version": 3
   },
   "file_extension": ".py",
   "mimetype": "text/x-python",
   "name": "python",
   "nbconvert_exporter": "python",
   "pygments_lexer": "ipython3",
   "version": "3.6.3"
  }
 },
 "nbformat": 4,
 "nbformat_minor": 2
}
